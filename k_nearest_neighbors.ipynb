{
  "cells": [
    {
      "cell_type": "markdown",
      "metadata": {
        "id": "view-in-github",
        "colab_type": "text"
      },
      "source": [
        "<a href=\"https://colab.research.google.com/github/Sonu-ABC/Machinelearning/blob/master/k_nearest_neighbors.ipynb\" target=\"_parent\"><img src=\"https://colab.research.google.com/assets/colab-badge.svg\" alt=\"Open In Colab\"/></a>"
      ]
    },
    {
      "cell_type": "markdown",
      "source": [
        "importing libraries"
      ],
      "metadata": {
        "id": "bmEpTIWRwWOE"
      }
    },
    {
      "cell_type": "code",
      "execution_count": null,
      "metadata": {
        "id": "FRBglZNvnv9j"
      },
      "outputs": [],
      "source": [
        "import numpy as np\n",
        "import pandas as pd\n",
        "import matplotlib.pyplot as plt\n",
        "from collections import Counter\n",
        "from itertools import combinations_with_replacement\n",
        "import random"
      ]
    },
    {
      "cell_type": "code",
      "source": [
        "#custom train_test_split\n",
        "def train_test_split(X, y, test_size=0.2, random_state=None):\n",
        "    if random_state is not None:\n",
        "        np.random.seed(random_state)\n",
        "\n",
        "    # Shuffle the data\n",
        "    indices = np.random.permutation(X.shape[0])\n",
        "    test_set_size = int(X.shape[0] * test_size)\n",
        "    test_indices = indices[:test_set_size]\n",
        "    train_indices = indices[test_set_size:]\n",
        "\n",
        "    X_train, X_test = X[train_indices], X[test_indices]\n",
        "    y_train, y_test = y[train_indices], y[test_indices]\n",
        "\n",
        "    return X_train, X_test, y_train, y_test"
      ],
      "metadata": {
        "id": "PajTLuR1ZOBn"
      },
      "execution_count": null,
      "outputs": []
    },
    {
      "cell_type": "code",
      "source": [
        "#function for scaling the data\n",
        "class StandardScalerFromScratch:\n",
        "    def __init__(self):\n",
        "        self.mean_ = None\n",
        "        self.scale_ = None\n",
        "\n",
        "    def fit(self, X):\n",
        "        self.mean_ = np.mean(X, axis=0)\n",
        "        self.scale_ = np.std(X, axis=0)\n",
        "\n",
        "    def transform(self, X):\n",
        "        return (X - self.mean_) / self.scale_\n",
        "\n",
        "    def fit_transform(self, X):\n",
        "        self.fit(X)\n",
        "        return self.transform(X)"
      ],
      "metadata": {
        "id": "OlQmuHbWag4T"
      },
      "execution_count": null,
      "outputs": []
    },
    {
      "cell_type": "code",
      "source": [
        "#function for f1 score calcuation\n",
        "def precision_score(y_true, y_pred):\n",
        "    true_positives = sum((y_true == 1) & (y_pred == 1))\n",
        "    predicted_positives = sum(y_pred == 1)\n",
        "    if predicted_positives == 0:\n",
        "        return 0\n",
        "    return true_positives / predicted_positives\n",
        "\n",
        "def recall_score(y_true, y_pred):\n",
        "\n",
        "    true_positives = sum((y_true == 1) & (y_pred == 1))\n",
        "    actual_positives = sum(y_true == 1)\n",
        "    if actual_positives == 0:\n",
        "        return 0\n",
        "    return true_positives / actual_positives\n",
        "\n",
        "def f1_score(y_true, y_pred):\n",
        "    precision = precision_score(y_true, y_pred)\n",
        "    recall = recall_score(y_true, y_pred)\n",
        "    if precision + recall == 0:\n",
        "        return 0\n",
        "    return 2 * (precision * recall) / (precision + recall)\n"
      ],
      "metadata": {
        "id": "ke5TDalldDJs"
      },
      "execution_count": null,
      "outputs": []
    },
    {
      "cell_type": "code",
      "execution_count": null,
      "metadata": {
        "id": "rXbWSSIsIJ83"
      },
      "outputs": [],
      "source": [
        "#K_nearest_neighbors\n",
        "\n",
        "class KNN:\n",
        "  def __init__(self, k=3):\n",
        "    self.k = k\n",
        "  def fit(self, X, y):\n",
        "    self.X_train = X\n",
        "    self.y_train = y\n",
        "  def euclidean_distance(self, a, b):\n",
        "    return np.sqrt(np.sum((a - b) ** 2))\n",
        "  def predict(self, X):\n",
        "    y_pred = [self._predict(x) for x in X]\n",
        "    return np.array(y_pred)\n",
        "  def _predict(self, x): # Calculate distances between x and all examples in the training set\n",
        "    distances = [self.euclidean_distance(x, x_train) for x_train in self.X_train] # Sort by distance and return indices of the first k neighbors\n",
        "    k_indices = np.argsort(distances)[:self.k] # Extract the labels of the k nearest neighbor training samples\n",
        "    k_nearest_labels = [self.y_train[i] for i in k_indices] # Return the most common class label\n",
        "    most_common = np.bincount(k_nearest_labels).argmax()\n",
        "    return  most_common\n",
        "\n",
        "  def accuracy_score(self, y_true, y_pred):\n",
        "        assert len(y_true) == len(y_pred), \"Length of true and predicted arrays must be the same.\" # Calculate the number of correct predictions\n",
        "        correct_predictions = sum(y_t == y_p for y_t, y_p in zip(y_true, y_pred))\n",
        "        accuracy = correct_predictions / len(y_true)\n",
        "        return accuracy"
      ]
    },
    {
      "cell_type": "markdown",
      "source": [
        "multiclass"
      ],
      "metadata": {
        "id": "VmfZ75W1-uj9"
      }
    },
    {
      "cell_type": "code",
      "execution_count": null,
      "metadata": {
        "id": "T6D6Vws8PZPZ"
      },
      "outputs": [],
      "source": [
        "train_df = pd.read_csv('/content/multi_classification_train.csv')\n",
        "test_df = pd.read_csv('/content/multi_classification_test.csv')\n",
        "train_df = train_df.drop('ID', axis=1)\n",
        "\n",
        "test_df = test_df.drop('ID', axis=1)\n",
        "train_df = train_df.dropna()\n",
        "\n",
        "test_df = test_df.dropna()\n",
        "X_train=train_df.drop('Class', axis=1)\n",
        "y_train=train_df['Class']\n",
        "X_test=test_df"
      ]
    },
    {
      "cell_type": "code",
      "source": [
        "#Scaling the data\n",
        "scaler=StandardScalerFromScratch()\n",
        "X_train = scaler.fit_transform(X_train)\n",
        "X_test = scaler.transform(X_test)\n",
        "print(X_test)"
      ],
      "metadata": {
        "colab": {
          "base_uri": "https://localhost:8080/"
        },
        "id": "ZwnYRruEaV-q",
        "outputId": "bea2b2d7-add4-4bc9-bf7c-63bd7206143b"
      },
      "execution_count": null,
      "outputs": [
        {
          "output_type": "stream",
          "name": "stdout",
          "text": [
            "       Feature_1  Feature_2  Feature_3  Feature_4  Feature_5  Feature_6  \\\n",
            "0       0.464270  -0.038855   0.808777   0.069424  -0.246486   1.893741   \n",
            "1      -0.065151   2.601525  -0.304750  -1.290104  -0.464019  -0.810380   \n",
            "2      -0.477183   1.281673  -1.198507  -1.077906  -0.294588  -1.115401   \n",
            "3      -1.225995  -0.807158   0.397847   1.688209  -0.077289   1.660641   \n",
            "4      -1.654135  -0.631944   0.387245  -0.652519   0.417637   0.394783   \n",
            "...          ...        ...        ...        ...        ...        ...   \n",
            "11995   1.379397   0.626683  -3.031248  -1.483462  -1.376365   0.569030   \n",
            "11996  -0.081217  -1.060498   0.287020   0.525468   0.796534  -0.829520   \n",
            "11997   0.061293   0.011340   1.162292   1.800754   1.046419   1.417177   \n",
            "11998  -1.014921  -1.073400  -0.982274  -1.455099   1.522881   1.827603   \n",
            "11999  -0.495553   0.141862  -0.760369   0.344308   0.610837  -1.569387   \n",
            "\n",
            "       Feature_7  Feature_8  Feature_9  Feature_10  Feature_11  Feature_12  \\\n",
            "0      -0.724706   1.266290   1.355747   -0.478088    0.415445    0.415445   \n",
            "1      -0.225922   0.593239   0.292835   -0.700179    0.260573    0.260573   \n",
            "2       1.331306   0.427287  -0.602667    0.764686    0.649490    0.649490   \n",
            "3      -1.133319   2.195920  -2.126881    1.664839    1.182412    1.182412   \n",
            "4      -0.233594  -1.193901   0.746638   -1.838785   -1.691578   -1.691578   \n",
            "...          ...        ...        ...         ...         ...         ...   \n",
            "11995  -0.888360  -1.441239   0.348960    0.894449    0.470995    0.470995   \n",
            "11996   0.074275   1.528466  -0.435986    0.622219    0.932076    0.932076   \n",
            "11997  -0.362228  -0.267482  -1.973844   -0.659346    0.640667    0.640667   \n",
            "11998   1.277289  -1.284889   2.091386   -2.731164    0.025987    0.025987   \n",
            "11999  -2.052180   2.366043  -0.871270    0.976868    1.530636    1.530636   \n",
            "\n",
            "       Feature_13  Feature_14  Feature_15  Feature_16  Feature_17  Feature_18  \\\n",
            "0       -1.184788   -2.257068    0.393953   -0.261202    0.106800    0.128667   \n",
            "1        0.740839    0.614980    0.924247    0.239820   -0.656710    0.470494   \n",
            "2       -0.278255    0.312947   -0.448117    1.720912    0.766779   -0.488867   \n",
            "3       -1.416093    0.642193   -1.368118   -1.037481    1.281198   -1.003069   \n",
            "4       -1.090663    1.020193   -0.061510   -1.185267   -0.638959    1.312365   \n",
            "...           ...         ...         ...         ...         ...         ...   \n",
            "11995    0.967250    0.017202    1.387106    0.299879   -0.915108   -0.440820   \n",
            "11996   -0.597572   -0.239999   -0.352970   -0.114090    0.085136   -0.874986   \n",
            "11997    1.968661    0.768316   -0.162967   -1.200308    0.363005    0.916773   \n",
            "11998    0.380645    0.888698   -0.045371    0.618555    1.034841    0.141526   \n",
            "11999   -0.034803    1.069573   -0.220829   -0.081864    0.363104    0.322751   \n",
            "\n",
            "       Feature_19  Feature_20  \n",
            "0        0.384919   -0.478088  \n",
            "1        1.031633   -0.700179  \n",
            "2        0.499321    0.764686  \n",
            "3        0.696477    1.664839  \n",
            "4        0.178372   -1.838785  \n",
            "...           ...         ...  \n",
            "11995    1.392037    0.894449  \n",
            "11996    0.846870    0.622219  \n",
            "11997   -0.386947   -0.659346  \n",
            "11998   -0.419904   -2.731164  \n",
            "11999    0.290431    0.976868  \n",
            "\n",
            "[12000 rows x 20 columns]\n"
          ]
        }
      ]
    },
    {
      "cell_type": "code",
      "execution_count": null,
      "metadata": {
        "colab": {
          "base_uri": "https://localhost:8080/"
        },
        "collapsed": true,
        "id": "HVZ6ba3jPY_z",
        "outputId": "e257998b-10b3-4be9-d572-8164a5a1c043"
      },
      "outputs": [
        {
          "output_type": "stream",
          "name": "stdout",
          "text": [
            "[[-0.52448604 -0.2834828  -0.25396412 ... -0.88776311 -0.4140342\n",
            "  -0.22507042]\n",
            " [-1.54802058  1.20566169 -1.15544291 ...  1.21091435  0.46181622\n",
            "  -1.45957257]\n",
            " [-0.11496216 -0.45000979 -0.46918751 ...  0.01939866 -0.31181284\n",
            "  -1.40675834]\n",
            " ...\n",
            " [ 0.6918397  -0.79504398  0.22886389 ... -1.13495053 -0.86895405\n",
            "   1.11209934]\n",
            " [ 0.09138272  0.46510259  0.93857965 ... -0.08033067 -1.41334599\n",
            "   0.13236118]\n",
            " [ 1.29413126 -1.60647007  0.05753533 ... -0.55545118 -0.07763162\n",
            "   0.78286168]]\n",
            "(38400, 20)\n",
            "(9600,)\n"
          ]
        }
      ],
      "source": [
        "X_train_split,X_val,y_train_split,y_val=train_test_split(X_train.values,y_train.values,test_size=0.2,random_state=42)\n",
        "print(X_train_split)\n",
        "print(X_train_split.shape)\n",
        "print(y_val.shape)"
      ]
    },
    {
      "cell_type": "code",
      "execution_count": null,
      "metadata": {
        "colab": {
          "base_uri": "https://localhost:8080/",
          "height": 856
        },
        "id": "h0akdr37FPjy",
        "outputId": "9ac50c23-3218-4509-b0d2-12cee99ae590"
      },
      "outputs": [
        {
          "output_type": "stream",
          "name": "stdout",
          "text": [
            "Accuracy with degree 1 is 0.899\n",
            "Accuracy with degree 2 is 0.876\n",
            "Accuracy with degree 3 is 0.927\n",
            "Accuracy with degree 4 is 0.919\n",
            "Accuracy with degree 5 is 0.928\n",
            "Accuracy with degree 6 is 0.933\n",
            "Accuracy with degree 7 is 0.932\n",
            "Accuracy with degree 8 is 0.934\n",
            "Accuracy with degree 9 is 0.93\n",
            "Accuracy with degree 10 is 0.933\n",
            "Accuracy with degree 11 is 0.932\n",
            "Accuracy with degree 12 is 0.934\n",
            "Accuracy with degree 13 is 0.933\n",
            "Accuracy with degree 14 is 0.936\n",
            "Accuracy with degree 15 is 0.933\n",
            "Accuracy with degree 16 is 0.936\n",
            "Accuracy with degree 17 is 0.933\n",
            "Accuracy with degree 18 is 0.935\n",
            "Accuracy with degree 19 is 0.936\n",
            "Best k: 8\n",
            "Cross-validation scores: [0.891, 0.8836, 0.9224, 0.9252, 0.9296000000000001, 0.9304, 0.9314000000000002, 0.9343999999999999, 0.9339999999999999, 0.9339999999999999, 0.933, 0.933, 0.932, 0.933, 0.9306000000000001, 0.9318, 0.931, 0.9329999999999998, 0.933]\n"
          ]
        },
        {
          "output_type": "display_data",
          "data": {
            "text/plain": [
              "<Figure size 640x480 with 1 Axes>"
            ],
            "image/png": "[encoded data removed]"
          },
          "metadata": {}
        }
      ],
      "source": [
        "\n",
        "\n",
        "# To find best k , custom k-fold cross-validation function\n",
        "def k_fold_cross_validation(X, y, k_values, cv=5):\n",
        "    n_samples = len(X)\n",
        "    indices = np.arange(n_samples)\n",
        "    np.random.shuffle(indices)\n",
        "\n",
        "    fold_size = n_samples // cv\n",
        "    scores = []\n",
        "\n",
        "    for k in k_values:\n",
        "        fold_scores = []\n",
        "        for i in range(cv):\n",
        "            start = i * fold_size\n",
        "            end = (i + 1) * fold_size\n",
        "\n",
        "            X_val = X[indices[start:end]]\n",
        "            y_val = y[indices[start:end]]\n",
        "\n",
        "            train_indices = np.concatenate((indices[:start], indices[end:]))\n",
        "            X_train = X[train_indices]\n",
        "            y_train = y[train_indices]\n",
        "\n",
        "            knn = KNN(k)\n",
        "\n",
        "            knn.fit(X_train, y_train)\n",
        "\n",
        "            y_pred = knn.predict(X_val)\n",
        "\n",
        "            accuracy = knn.accuracy_score(y_val, y_pred)\n",
        "\n",
        "            fold_scores.append(accuracy)\n",
        "\n",
        "        mean_score = np.mean(fold_scores)\n",
        "        print(\"Accuracy with k value \",k,'is',accuracy)\n",
        "        scores.append(mean_score)\n",
        "\n",
        "    return scores\n",
        "\n",
        "k_values = range(1, 20)\n",
        "\n",
        "cv_scores = k_fold_cross_validation(X_train.values[:5000,:], y_train.values[:5000], k_values, cv=5)\n",
        "\n",
        "best_k = k_values[np.argmax(cv_scores)]\n",
        "print(f'Best k: {best_k}')\n",
        "print(f'Cross-validation scores: {cv_scores}')\n",
        "\n",
        "# Plotting the results\n",
        "import matplotlib.pyplot as plt\n",
        "\n",
        "plt.plot(k_values, cv_scores, marker='o')\n",
        "plt.xlabel('Number of Neighbors (k)')\n",
        "plt.ylabel('Cross-Validation Accuracy')\n",
        "plt.title('k-NN Cross-Validation')\n",
        "plt.show()\n"
      ]
    },
    {
      "cell_type": "code",
      "execution_count": null,
      "metadata": {
        "colab": {
          "base_uri": "https://localhost:8080/"
        },
        "id": "pq6Sl-dvPY8R",
        "outputId": "c49f0247-9054-4fd8-d4f1-1a34fc623442"
      },
      "outputs": [
        {
          "output_type": "stream",
          "name": "stdout",
          "text": [
            "[2 1 2 ... 2 3 1]\n",
            "[2 1 2 ... 2 0 1]\n",
            "Accuracy on validation set : 0.9403125\n"
          ]
        }
      ],
      "source": [
        "\n",
        "k = 8  # Number of neighbors\n",
        "knn = KNN(k)\n",
        "knn.fit(X_train_split[:8000,:],y_train_split[:8000])\n",
        "\n",
        "# Step 5: Make predictions on the test set\n",
        "y_pred = knn.predict(X_val)\n",
        "print(y_pred)\n",
        "print(y_val)\n",
        "# Step 6: Evaluate the model\n",
        "accuracy = knn.accuracy_score(y_val, y_pred)\n",
        "print(\"Accuracy on validation set :\", accuracy)"
      ]
    },
    {
      "cell_type": "code",
      "source": [
        "f1 = f1_score(y_val, np.array(y_pred))\n",
        "print(\"F1 Score on validation set : \", f1)"
      ],
      "metadata": {
        "colab": {
          "base_uri": "https://localhost:8080/"
        },
        "id": "i9z3SsHxdoUV",
        "outputId": "021010be-7e26-4f9c-abd8-95a61613e796"
      },
      "execution_count": null,
      "outputs": [
        {
          "output_type": "stream",
          "name": "stdout",
          "text": [
            "F1 Score on validation set :  0.9600849256900211\n"
          ]
        }
      ]
    },
    {
      "cell_type": "code",
      "execution_count": null,
      "metadata": {
        "id": "glfwbtljPY2-",
        "colab": {
          "base_uri": "https://localhost:8080/"
        },
        "outputId": "6f07f79a-3a07-44fb-9ce6-244719c1a844"
      },
      "outputs": [
        {
          "output_type": "stream",
          "name": "stdout",
          "text": [
            "[3 1 1 1 2 1 2 3 2 3 3 2 2 2 1 2 3 4 3 2 1 1 2 1 3 0 1 2 4 3]\n"
          ]
        }
      ],
      "source": [
        "pred_testdata = knn.predict(X_test.values)\n",
        "print(pred_testdata[:30])"
      ]
    },
    {
      "cell_type": "markdown",
      "source": [
        "binary"
      ],
      "metadata": {
        "id": "flDsbt9m-2Gi"
      }
    },
    {
      "cell_type": "code",
      "source": [
        "train_df = pd.read_csv('/content/binary_classification_train.csv')\n",
        "test_df = pd.read_csv('/content/binary_classification_test.csv')\n",
        "train_df = train_df.drop('ID', axis=1)\n",
        "\n",
        "test_df = test_df.drop('ID', axis=1)\n",
        "train_df = train_df.dropna()\n",
        "\n",
        "test_df = test_df.dropna()\n",
        "X_train=train_df.drop('Class', axis=1)\n",
        "y_train=train_df['Class']\n",
        "X_test=test_df"
      ],
      "metadata": {
        "id": "7HOoV7Qv-1lw"
      },
      "execution_count": null,
      "outputs": []
    },
    {
      "cell_type": "code",
      "source": [
        "#Scaling the data\n",
        "scaler=StandardScalerFromScratch()\n",
        "X_train = scaler.fit_transform(X_train)\n",
        "X_test = scaler.transform(X_test)\n",
        "print(X_test)"
      ],
      "metadata": {
        "colab": {
          "base_uri": "https://localhost:8080/"
        },
        "id": "OE6Be8XH_CFs",
        "outputId": "68b1b5c4-bad0-4638-af87-5881a838ed62"
      },
      "execution_count": null,
      "outputs": [
        {
          "output_type": "stream",
          "name": "stdout",
          "text": [
            "       Feature_1  Feature_2  Feature_3  Feature_4  Feature_5  Feature_6  \\\n",
            "0       2.444277  -0.318443  -0.552754  -0.194656  -0.983553  -0.758054   \n",
            "1       0.867740  -0.375044   0.831462   0.011387  -0.062052   0.287391   \n",
            "2      -0.293478  -1.370919   1.031061   1.384421  -1.671796  -0.764459   \n",
            "3      -1.322990  -0.856703  -0.133142  -0.280699   0.416550  -0.465540   \n",
            "4      -1.779075  -0.818601  -0.054441  -0.500784  -0.549319  -0.460625   \n",
            "...          ...        ...        ...        ...        ...        ...   \n",
            "11995   1.802235   1.010469   0.890545  -0.366096  -0.496127  -0.422100   \n",
            "11996   0.477304  -2.504430  -0.303791  -0.477253  -0.363558   1.231102   \n",
            "11997   1.742934  -1.428000   1.053747   0.187187   1.990847   0.060674   \n",
            "11998   0.749529  -0.291946   0.616354  -0.431166   0.770062   1.502824   \n",
            "11999   1.595285  -2.238284  -0.099915  -0.114645   0.089070  -0.612122   \n",
            "\n",
            "       Feature_7  Feature_8  Feature_9  Feature_10  Feature_11  Feature_12  \\\n",
            "0      -0.070025   0.036974   0.453781   -0.469907    0.389513    0.136182   \n",
            "1       0.902421  -0.420334  -0.302650    0.754025   -1.494121    0.149920   \n",
            "2       2.453292  -1.684143  -0.798895   -0.920813   -0.919158    0.606301   \n",
            "3      -0.918851   1.655354   0.454136    0.131830   -1.641007   -0.927542   \n",
            "4       1.342102   0.734095  -0.845563   -0.059056    0.004537    0.764122   \n",
            "...          ...        ...        ...         ...         ...         ...   \n",
            "11995  -0.231063  -1.057191  -0.398745   -0.296467    1.055927   -1.142006   \n",
            "11996  -0.345451   0.979750   0.260128   -1.602227   -0.422243   -0.068146   \n",
            "11997   0.549222  -0.853534  -1.416208    0.607620   -2.243608    1.193768   \n",
            "11998  -1.304234   1.018435  -0.450618    0.689585   -0.954355    1.543902   \n",
            "11999   1.587359   0.934952   0.913104    0.443059    0.882585   -0.565871   \n",
            "\n",
            "       Feature_13  Feature_14  Feature_15  Feature_16  Feature_17  Feature_18  \\\n",
            "0        0.364853   -1.255600    0.210103   -0.606955   -0.667318    0.349346   \n",
            "1        0.275008   -1.440744    1.241770   -0.264210   -0.351626    0.602826   \n",
            "2       -1.764313    0.167932   -1.177060   -1.261358    0.870869    1.257346   \n",
            "3        0.458387   -1.216302    0.574289   -0.191815   -0.783251   -0.165194   \n",
            "4        0.596362   -0.742147    0.056851   -0.667890   -0.203136    1.182562   \n",
            "...           ...         ...         ...         ...         ...         ...   \n",
            "11995    0.218624   -0.767104    0.261198   -0.354320   -0.401585    0.785251   \n",
            "11996    0.843083    1.120612   -0.024130    1.067043    0.472296   -1.233889   \n",
            "11997    1.286992    0.929180   -1.092265   -0.209011    0.917260    0.506038   \n",
            "11998   -0.538850    0.827223    0.589004    0.442106    0.739443    0.962650   \n",
            "11999   -0.332183   -1.326895    0.915241    0.319077   -1.197308    0.890133   \n",
            "\n",
            "       Feature_19  Feature_20  \n",
            "0        0.016842   -1.092657  \n",
            "1        0.357206   -0.415273  \n",
            "2        0.461218   -0.560329  \n",
            "3       -0.078837    0.039684  \n",
            "4       -0.142538    0.439787  \n",
            "...           ...         ...  \n",
            "11995    0.060110    0.250802  \n",
            "11996   -0.908208   -1.683139  \n",
            "11997   -0.852403   -1.352690  \n",
            "11998    0.588807   -0.506470  \n",
            "11999    1.153556    0.488302  \n",
            "\n",
            "[12000 rows x 20 columns]\n"
          ]
        }
      ]
    },
    {
      "cell_type": "code",
      "source": [
        "X_train_split,X_val,y_train_split,y_val=train_test_split(X_train.values,y_train.values,test_size=0.2,random_state=42)\n",
        "print(X_train_split)\n",
        "print(X_train_split.shape)\n",
        "print(y_val.shape)"
      ],
      "metadata": {
        "colab": {
          "base_uri": "https://localhost:8080/"
        },
        "id": "Y3MuZzGV_B5_",
        "outputId": "fd6479ee-ae9d-44e6-f4b3-0c18f2a68cc2"
      },
      "execution_count": null,
      "outputs": [
        {
          "output_type": "stream",
          "name": "stdout",
          "text": [
            "[[ 0.15125591  2.86943283 -1.44950062 ...  1.33808763  0.79113441\n",
            "   0.78726331]\n",
            " [-1.0869925  -1.25802606  2.51179824 ... -0.08767592  0.56910249\n",
            "   1.67160888]\n",
            " [-0.59774628  1.50781965 -0.48642895 ...  0.02558487 -0.55835549\n",
            "   1.12675374]\n",
            " ...\n",
            " [ 0.92960725  0.2999171  -0.38794585 ... -0.90427929  0.40481508\n",
            "   0.3853615 ]\n",
            " [ 1.35972461  0.45837764  0.92487921 ... -0.26580584  0.63727544\n",
            "   0.02676439]\n",
            " [ 0.88050151 -1.60678446  2.64255596 ...  0.18988409 -1.15896963\n",
            "   0.09335619]]\n",
            "(38400, 20)\n",
            "(9600,)\n"
          ]
        }
      ]
    },
    {
      "cell_type": "code",
      "source": [
        "# To find best k , custom k-fold cross-validation function\n",
        "def k_fold_cross_validation(X, y, k_values, cv=5):\n",
        "    n_samples = len(X)\n",
        "    indices = np.arange(n_samples)\n",
        "    np.random.shuffle(indices)\n",
        "\n",
        "    fold_size = n_samples // cv\n",
        "    scores = []\n",
        "\n",
        "    for k in k_values:\n",
        "        fold_scores = []\n",
        "        for i in range(cv):\n",
        "            start = i * fold_size\n",
        "            end = (i + 1) * fold_size\n",
        "\n",
        "            X_val = X[indices[start:end]]\n",
        "            y_val = y[indices[start:end]]\n",
        "\n",
        "            train_indices = np.concatenate((indices[:start], indices[end:]))\n",
        "            X_train = X[train_indices]\n",
        "            y_train = y[train_indices]\n",
        "\n",
        "            knn = KNN(k)\n",
        "\n",
        "            knn.fit(X_train, y_train)\n",
        "\n",
        "            y_pred = knn.predict(X_val)\n",
        "\n",
        "            accuracy = knn.accuracy_score(y_val, y_pred)\n",
        "\n",
        "            fold_scores.append(accuracy)\n",
        "\n",
        "        mean_score = np.mean(fold_scores)\n",
        "        print(\"Accuracy with k value \",k,'is',accuracy)\n",
        "        scores.append(mean_score)\n",
        "\n",
        "    return scores\n",
        "\n",
        "k_values = range(1, 20)\n",
        "\n",
        "cv_scores = k_fold_cross_validation(X_train.values[:5000,:], y_train.values[:5000], k_values, cv=5)\n",
        "\n",
        "best_k = k_values[np.argmax(cv_scores)]\n",
        "print(f'Best k: {best_k}')\n",
        "print(f'Cross-validation scores: {cv_scores}')\n",
        "\n",
        "# Plotting the results\n",
        "import matplotlib.pyplot as plt\n",
        "\n",
        "plt.plot(k_values, cv_scores, marker='o')\n",
        "plt.xlabel('Number of Neighbors (k)')\n",
        "plt.ylabel('Cross-Validation Accuracy')\n",
        "plt.title('k-NN Cross-Validation')\n",
        "plt.show()"
      ],
      "metadata": {
        "colab": {
          "base_uri": "https://localhost:8080/",
          "height": 856
        },
        "id": "wqn4fgHg_BwT",
        "outputId": "fa69444c-8115-4223-e8a2-74c036cc0ea9"
      },
      "execution_count": null,
      "outputs": [
        {
          "output_type": "stream",
          "name": "stdout",
          "text": [
            "Accuracy with k value  1 is 0.867\n",
            "Accuracy with k value  2 is 0.896\n",
            "Accuracy with k value  3 is 0.913\n",
            "Accuracy with k value  4 is 0.911\n",
            "Accuracy with k value  5 is 0.92\n",
            "Accuracy with k value  6 is 0.92\n",
            "Accuracy with k value  7 is 0.923\n",
            "Accuracy with k value  8 is 0.921\n",
            "Accuracy with k value  9 is 0.926\n",
            "Accuracy with k value  10 is 0.923\n",
            "Accuracy with k value  11 is 0.928\n",
            "Accuracy with k value  12 is 0.923\n",
            "Accuracy with k value  13 is 0.928\n",
            "Accuracy with k value  14 is 0.921\n",
            "Accuracy with k value  15 is 0.925\n",
            "Accuracy with k value  16 is 0.921\n",
            "Accuracy with k value  17 is 0.925\n",
            "Accuracy with k value  18 is 0.923\n",
            "Accuracy with k value  19 is 0.924\n",
            "Best k: 13\n",
            "Cross-validation scores: [0.8734, 0.8907999999999999, 0.9148, 0.9120000000000001, 0.9208000000000001, 0.9164, 0.9226000000000001, 0.9179999999999999, 0.9218, 0.9182, 0.9224, 0.9196, 0.923, 0.9186, 0.922, 0.9174000000000001, 0.922, 0.9192, 0.9221999999999999]\n"
          ]
        },
        {
          "output_type": "display_data",
          "data": {
            "text/plain": [
              "<Figure size 640x480 with 1 Axes>"
            ],
            "image/png": "[encoded data removed]"
          },
          "metadata": {}
        }
      ]
    },
    {
      "cell_type": "code",
      "source": [
        "\n",
        "k =  13 # Number of neighbors\n",
        "knn = KNN(k)\n",
        "knn.fit(X_train_split[:8000,:],y_train_split[:8000])\n",
        "\n",
        "# Step 5: Make predictions on the test set\n",
        "y_pred = knn.predict(X_val)\n",
        "print(y_pred)\n",
        "print(y_val)\n",
        "# Step 6: Evaluate the model\n",
        "accuracy = knn.accuracy_score(y_val, y_pred)\n",
        "print(\"Accuracy on validation set :\", accuracy)"
      ],
      "metadata": {
        "colab": {
          "base_uri": "https://localhost:8080/"
        },
        "id": "J1JKnJDu_BnQ",
        "outputId": "8b089815-9735-458d-ecda-be43c92c4031"
      },
      "execution_count": null,
      "outputs": [
        {
          "output_type": "stream",
          "name": "stdout",
          "text": [
            "[0 1 0 ... 1 0 1]\n",
            "[0 1 0 ... 1 0 1]\n",
            "Accuracy on validation set : 0.9329166666666666\n"
          ]
        }
      ]
    },
    {
      "cell_type": "code",
      "source": [
        "f1 = f1_score(y_val, np.array(y_pred))\n",
        "print(\"F1 Score on validation set : \", f1)"
      ],
      "metadata": {
        "colab": {
          "base_uri": "https://localhost:8080/"
        },
        "id": "59m_lOkF_XX0",
        "outputId": "8a22234d-46a2-43d5-d52c-c6bfc91b60cc"
      },
      "execution_count": null,
      "outputs": [
        {
          "output_type": "stream",
          "name": "stdout",
          "text": [
            "F1 Score on validation set :  0.890289608177172\n"
          ]
        }
      ]
    },
    {
      "cell_type": "code",
      "source": [
        "pred_testdata = knn.predict(X_test.values)\n",
        "print(pred_testdata[:30])"
      ],
      "metadata": {
        "colab": {
          "base_uri": "https://localhost:8080/"
        },
        "id": "KPBsevQI_XUM",
        "outputId": "50429997-95df-4552-e7bc-1795bfd011a1"
      },
      "execution_count": null,
      "outputs": [
        {
          "output_type": "stream",
          "name": "stdout",
          "text": [
            "[0 0 0 0 0 0 1 0 0 0 0 1 0 1 0 0 1 0 0 0 1 1 1 0 0 1 0 1 0 0]\n"
          ]
        }
      ]
    }
  ],
  "metadata": {
    "colab": {
      "provenance": [],
      "authorship_tag": "ABX9TyNi7hEsAFcMRa2yVzQCmFYa",
      "include_colab_link": true
    },
    "kernelspec": {
      "display_name": "Python 3",
      "name": "python3"
    },
    "language_info": {
      "name": "python"
    }
  },
  "nbformat": 4,
  "nbformat_minor": 0
}